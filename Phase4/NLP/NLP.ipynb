{
 "cells": [
  {
   "cell_type": "markdown",
   "metadata": {},
   "source": [
    "# Natural Language Processing\n",
    "\n",
    "So what is natural language processing? What kinds of data falls into the \"natural language\" bucket? What types of data are similar that you've already seen?\n",
    "\n",
    "- We can think of natural language as anything involving human communication - such as text documents, voice recordings\n",
    "- Typically, when we talk about \"natural language processing\" we're talking about text data - although it could also include sound data\n",
    "- Language data is actually quite similar to time series data - the sequence of language data is an important, defining characteristic\n"
   ]
  },
  {
   "cell_type": "markdown",
   "metadata": {},
   "source": [
    "## Processing Text Data\n",
    "\n",
    "Using the 'Spooky Authors' dataset: https://www.kaggle.com/c/spooky-author-identification/overview\n",
    "\n",
    "Goal: determine whether a chunk of text was written by Edgar Allen Poe, HP Lovecraft or Mary Shelley (multi-class classification problem)"
   ]
  },
  {
   "cell_type": "code",
   "execution_count": 1,
   "metadata": {},
   "outputs": [],
   "source": [
    "# Wall of imports\n",
    "import pandas as pd\n",
    "import string\n",
    "import matplotlib.pyplot as plt\n",
    "\n",
    "from sklearn.feature_extraction.text import CountVectorizer\n",
    "from sklearn.feature_extraction.text import TfidfVectorizer\n",
    "import nltk\n",
    "from nltk.corpus import stopwords\n",
    "from nltk import word_tokenize\n",
    "\n",
    "from sklearn.model_selection import train_test_split\n",
    "from sklearn.preprocessing import LabelEncoder\n",
    "from sklearn.naive_bayes import MultinomialNB\n",
    "from sklearn.ensemble import RandomForestClassifier\n",
    "from sklearn.metrics import accuracy_score, plot_confusion_matrix"
   ]
  },
  {
   "cell_type": "markdown",
   "metadata": {},
   "source": [
    "First let's grab the dataset and look at a few aspects of this dataset (shape, some examples, etc). We'll be using just the train csv for this, for ease of use!"
   ]
  },
  {
   "cell_type": "code",
   "execution_count": 2,
   "metadata": {},
   "outputs": [],
   "source": [
    "# Grab the train set from the competition \n",
    "df = pd.read_csv(\"spooky-author-identification/train.csv\")"
   ]
  },
  {
   "cell_type": "code",
   "execution_count": 3,
   "metadata": {},
   "outputs": [
    {
     "data": {
      "text/html": [
       "<div>\n",
       "<style scoped>\n",
       "    .dataframe tbody tr th:only-of-type {\n",
       "        vertical-align: middle;\n",
       "    }\n",
       "\n",
       "    .dataframe tbody tr th {\n",
       "        vertical-align: top;\n",
       "    }\n",
       "\n",
       "    .dataframe thead th {\n",
       "        text-align: right;\n",
       "    }\n",
       "</style>\n",
       "<table border=\"1\" class=\"dataframe\">\n",
       "  <thead>\n",
       "    <tr style=\"text-align: right;\">\n",
       "      <th></th>\n",
       "      <th>id</th>\n",
       "      <th>text</th>\n",
       "      <th>author</th>\n",
       "    </tr>\n",
       "  </thead>\n",
       "  <tbody>\n",
       "    <tr>\n",
       "      <td>0</td>\n",
       "      <td>id26305</td>\n",
       "      <td>This process, however, afforded me no means of...</td>\n",
       "      <td>EAP</td>\n",
       "    </tr>\n",
       "    <tr>\n",
       "      <td>1</td>\n",
       "      <td>id17569</td>\n",
       "      <td>It never once occurred to me that the fumbling...</td>\n",
       "      <td>HPL</td>\n",
       "    </tr>\n",
       "    <tr>\n",
       "      <td>2</td>\n",
       "      <td>id11008</td>\n",
       "      <td>In his left hand was a gold snuff box, from wh...</td>\n",
       "      <td>EAP</td>\n",
       "    </tr>\n",
       "    <tr>\n",
       "      <td>3</td>\n",
       "      <td>id27763</td>\n",
       "      <td>How lovely is spring As we looked from Windsor...</td>\n",
       "      <td>MWS</td>\n",
       "    </tr>\n",
       "    <tr>\n",
       "      <td>4</td>\n",
       "      <td>id12958</td>\n",
       "      <td>Finding nothing else, not even gold, the Super...</td>\n",
       "      <td>HPL</td>\n",
       "    </tr>\n",
       "  </tbody>\n",
       "</table>\n",
       "</div>"
      ],
      "text/plain": [
       "        id                                               text author\n",
       "0  id26305  This process, however, afforded me no means of...    EAP\n",
       "1  id17569  It never once occurred to me that the fumbling...    HPL\n",
       "2  id11008  In his left hand was a gold snuff box, from wh...    EAP\n",
       "3  id27763  How lovely is spring As we looked from Windsor...    MWS\n",
       "4  id12958  Finding nothing else, not even gold, the Super...    HPL"
      ]
     },
     "execution_count": 3,
     "metadata": {},
     "output_type": "execute_result"
    }
   ],
   "source": [
    "df.head()"
   ]
  },
  {
   "cell_type": "code",
   "execution_count": 4,
   "metadata": {},
   "outputs": [
    {
     "data": {
      "text/plain": [
       "(19579, 3)"
      ]
     },
     "execution_count": 4,
     "metadata": {},
     "output_type": "execute_result"
    }
   ],
   "source": [
    "df.shape"
   ]
  },
  {
   "cell_type": "code",
   "execution_count": 5,
   "metadata": {
    "scrolled": true
   },
   "outputs": [
    {
     "data": {
      "text/plain": [
       "'This process, however, afforded me no means of ascertaining the dimensions of my dungeon; as I might make its circuit, and return to the point whence I set out, without being aware of the fact; so perfectly uniform seemed the wall.'"
      ]
     },
     "execution_count": 5,
     "metadata": {},
     "output_type": "execute_result"
    }
   ],
   "source": [
    "# Exploring an example of one of the texts\n",
    "df['text'][0]"
   ]
  },
  {
   "cell_type": "code",
   "execution_count": 6,
   "metadata": {},
   "outputs": [],
   "source": [
    "# Encoding our target from author initials to numbers\n",
    "le = LabelEncoder()\n",
    "df['target'] = le.fit_transform(df['author'])"
   ]
  },
  {
   "cell_type": "code",
   "execution_count": 7,
   "metadata": {},
   "outputs": [
    {
     "data": {
      "text/html": [
       "<div>\n",
       "<style scoped>\n",
       "    .dataframe tbody tr th:only-of-type {\n",
       "        vertical-align: middle;\n",
       "    }\n",
       "\n",
       "    .dataframe tbody tr th {\n",
       "        vertical-align: top;\n",
       "    }\n",
       "\n",
       "    .dataframe thead th {\n",
       "        text-align: right;\n",
       "    }\n",
       "</style>\n",
       "<table border=\"1\" class=\"dataframe\">\n",
       "  <thead>\n",
       "    <tr style=\"text-align: right;\">\n",
       "      <th></th>\n",
       "      <th>id</th>\n",
       "      <th>text</th>\n",
       "      <th>author</th>\n",
       "      <th>target</th>\n",
       "    </tr>\n",
       "  </thead>\n",
       "  <tbody>\n",
       "    <tr>\n",
       "      <td>0</td>\n",
       "      <td>id26305</td>\n",
       "      <td>This process, however, afforded me no means of...</td>\n",
       "      <td>EAP</td>\n",
       "      <td>0</td>\n",
       "    </tr>\n",
       "    <tr>\n",
       "      <td>1</td>\n",
       "      <td>id17569</td>\n",
       "      <td>It never once occurred to me that the fumbling...</td>\n",
       "      <td>HPL</td>\n",
       "      <td>1</td>\n",
       "    </tr>\n",
       "    <tr>\n",
       "      <td>2</td>\n",
       "      <td>id11008</td>\n",
       "      <td>In his left hand was a gold snuff box, from wh...</td>\n",
       "      <td>EAP</td>\n",
       "      <td>0</td>\n",
       "    </tr>\n",
       "    <tr>\n",
       "      <td>3</td>\n",
       "      <td>id27763</td>\n",
       "      <td>How lovely is spring As we looked from Windsor...</td>\n",
       "      <td>MWS</td>\n",
       "      <td>2</td>\n",
       "    </tr>\n",
       "    <tr>\n",
       "      <td>4</td>\n",
       "      <td>id12958</td>\n",
       "      <td>Finding nothing else, not even gold, the Super...</td>\n",
       "      <td>HPL</td>\n",
       "      <td>1</td>\n",
       "    </tr>\n",
       "  </tbody>\n",
       "</table>\n",
       "</div>"
      ],
      "text/plain": [
       "        id                                               text author  target\n",
       "0  id26305  This process, however, afforded me no means of...    EAP       0\n",
       "1  id17569  It never once occurred to me that the fumbling...    HPL       1\n",
       "2  id11008  In his left hand was a gold snuff box, from wh...    EAP       0\n",
       "3  id27763  How lovely is spring As we looked from Windsor...    MWS       2\n",
       "4  id12958  Finding nothing else, not even gold, the Super...    HPL       1"
      ]
     },
     "execution_count": 7,
     "metadata": {},
     "output_type": "execute_result"
    }
   ],
   "source": [
    "# Checking that change\n",
    "df.head()"
   ]
  },
  {
   "cell_type": "code",
   "execution_count": 8,
   "metadata": {},
   "outputs": [],
   "source": [
    "# Grabbing our inputs and target\n",
    "X = df['text']\n",
    "y = df['target']\n",
    "\n",
    "# Train test split\n",
    "X_train, X_test, y_train, y_test = train_test_split(X, y, random_state=42)"
   ]
  },
  {
   "cell_type": "code",
   "execution_count": 9,
   "metadata": {},
   "outputs": [],
   "source": [
    "# Grabbing a list of stopwords from NLTK, imported above\n",
    "# We're also using the string library add punctuation to our list\n",
    "stopwords_list = stopwords.words('english') + list(string.punctuation)"
   ]
  },
  {
   "cell_type": "code",
   "execution_count": 10,
   "metadata": {},
   "outputs": [
    {
     "data": {
      "text/plain": [
       "['i',\n",
       " 'me',\n",
       " 'my',\n",
       " 'myself',\n",
       " 'we',\n",
       " 'our',\n",
       " 'ours',\n",
       " 'ourselves',\n",
       " 'you',\n",
       " \"you're\",\n",
       " \"you've\",\n",
       " \"you'll\",\n",
       " \"you'd\",\n",
       " 'your',\n",
       " 'yours',\n",
       " 'yourself',\n",
       " 'yourselves',\n",
       " 'he',\n",
       " 'him',\n",
       " 'his']"
      ]
     },
     "execution_count": 10,
     "metadata": {},
     "output_type": "execute_result"
    }
   ],
   "source": [
    "stopwords_list[:20]"
   ]
  },
  {
   "cell_type": "markdown",
   "metadata": {},
   "source": [
    "What is the point of a list of stopwords? How/why will we use this list?\n",
    "\n",
    "- \"stopwords\" have no inherent meaning and provide no use to a machine who doesn't care about grammar - we'll use this list to remove these words from our texts, so the algorithm focuses on words that actually might distinguish one author from another\n"
   ]
  },
  {
   "cell_type": "markdown",
   "metadata": {},
   "source": [
    "### \"Bag of Words\" - Count Vectorizer\n",
    "\n",
    "Useful link to the 'User Guide' part of the documentation on this: https://scikit-learn.org/stable/modules/feature_extraction.html#common-vectorizer-usage"
   ]
  },
  {
   "cell_type": "code",
   "execution_count": 11,
   "metadata": {},
   "outputs": [],
   "source": [
    "# Intstantiating our vectorizer\n",
    "count_vectorizer = CountVectorizer()\n",
    "\n",
    "# Training on the train set, then transforming the train set\n",
    "X_count_train = count_vectorizer.fit_transform(X_train)\n",
    "# Transforming the test set\n",
    "X_count_test = count_vectorizer.transform(X_test)"
   ]
  },
  {
   "cell_type": "code",
   "execution_count": 12,
   "metadata": {},
   "outputs": [],
   "source": [
    "# Instantiating a classifier to use on this text - Multinomial Naive Bayes\n",
    "nb_classifier = MultinomialNB()\n",
    "\n",
    "# Fitting the classifier\n",
    "nb_classifier.fit(X_count_train, y_train)\n",
    "\n",
    "# Getting our predictions for the train and test sets\n",
    "train_preds = nb_classifier.predict(X_count_train)\n",
    "test_preds = nb_classifier.predict(X_count_test)"
   ]
  },
  {
   "cell_type": "code",
   "execution_count": 13,
   "metadata": {
    "scrolled": true
   },
   "outputs": [
    {
     "name": "stdout",
     "output_type": "stream",
     "text": [
      "0.8330949948927477\n"
     ]
    },
    {
     "data": {
      "image/png": "[encoded data removed]",
      "text/plain": [
       "<Figure size 432x288 with 2 Axes>"
      ]
     },
     "metadata": {
      "needs_background": "light"
     },
     "output_type": "display_data"
    }
   ],
   "source": [
    "# Let's see how we did!\n",
    "print(accuracy_score(y_test, test_preds))\n",
    "plot_confusion_matrix(nb_classifier, X_count_test, y_test,\n",
    "                      values_format=\".4g\")  # to make numbers readable\n",
    "plt.show()"
   ]
  },
  {
   "cell_type": "markdown",
   "metadata": {},
   "source": [
    "Discuss! How did we do? What could we change?\n",
    "\n",
    "- fairly high accuracy right off the bat, doesn't appear to favor one class over another too much\n",
    "- did we even use our stopwords list?\n"
   ]
  },
  {
   "cell_type": "markdown",
   "metadata": {},
   "source": [
    "We're about to try this on a few different vectorizers, so let's make that easier!\n",
    "\n",
    "Here, I'm writing a function where we can provide an instantiated vectorizer, an instantiated classifer, and all of our train and test data, and the function will spit out the accuracy score and confusion matrix just like above:"
   ]
  },
  {
   "cell_type": "code",
   "execution_count": 14,
   "metadata": {},
   "outputs": [],
   "source": [
    "def classify_vectorized_text(vectorizer, classifier, Xtrain, Xtest, ytrain, ytest):\n",
    "    '''\n",
    "    Fit and transform text data using the provided vectorizer, then fit and \n",
    "    predict with the provided classifier, in order to see the resulting\n",
    "    accuracy score and confusion matrix\n",
    "    For the Xtrain, Xtest, ytrain, ytest, expect the output of an\n",
    "    sklearn train/test split\n",
    "    -\n",
    "    Inputs:\n",
    "    vectorizer: an instantiated sklearn vectorizer\n",
    "    classifier: an instantiated sklearn classifier\n",
    "    X_train: training input data\n",
    "    X_test: testing input data\n",
    "    y_train: training true result\n",
    "    y_test: testing true result\n",
    "    -\n",
    "    Outputs: \n",
    "    train_preds: predicted results for the train set\n",
    "    test_preds: predicted results for the test set\n",
    "    '''\n",
    "\n",
    "    Xtrain_transformed = vectorizer.fit_transform(Xtrain)\n",
    "    Xtest_transformed = vectorizer.transform(Xtest)\n",
    "\n",
    "    classifier.fit(Xtrain_transformed, ytrain)\n",
    "\n",
    "    train_preds = classifier.predict(Xtrain_transformed)\n",
    "    test_preds = classifier.predict(Xtest_transformed)\n",
    "\n",
    "    print(accuracy_score(ytest, test_preds))\n",
    "    plot_confusion_matrix(classifier, Xtest_transformed, ytest,\n",
    "                          values_format=\".4g\")  # to make numbers readable\n",
    "    plt.show()\n",
    "\n",
    "    return(train_preds, test_preds)"
   ]
  },
  {
   "cell_type": "markdown",
   "metadata": {},
   "source": [
    "Let's add in something that was missing from our first Count Vectorizer:\n",
    "\n",
    "Link to the documentation: https://scikit-learn.org/stable/modules/generated/sklearn.feature_extraction.text.CountVectorizer.html"
   ]
  },
  {
   "cell_type": "code",
   "execution_count": 15,
   "metadata": {},
   "outputs": [],
   "source": [
    "# Intstantiating a count vectorizer that removes stop words\n",
    "count_stop = CountVectorizer(stop_words = stopwords_list)"
   ]
  },
  {
   "cell_type": "markdown",
   "metadata": {},
   "source": [
    "Now let's create a new classifier and compare the results, using our previously-defined function!"
   ]
  },
  {
   "cell_type": "code",
   "execution_count": 16,
   "metadata": {},
   "outputs": [
    {
     "name": "stdout",
     "output_type": "stream",
     "text": [
      "0.8286006128702758\n"
     ]
    },
    {
     "data": {
      "image/png": "[encoded data removed]",
      "text/plain": [
       "<Figure size 432x288 with 2 Axes>"
      ]
     },
     "metadata": {
      "needs_background": "light"
     },
     "output_type": "display_data"
    }
   ],
   "source": [
    "# Trying the same classifier, but now with stopwords removed\n",
    "nb_stop = MultinomialNB()\n",
    "\n",
    "stop_train_preds, stop_test_preds = classify_vectorized_text(\n",
    "    count_stop, nb_stop, X_train, X_test, y_train, y_test)"
   ]
  },
  {
   "cell_type": "markdown",
   "metadata": {},
   "source": [
    "Compare/discuss: \n",
    "\n",
    "- slightly worse accuracy than before! but not drastically so - actually correctly classifies a few more \"Class 1\" than before, but got worse on \"Class 0\" and \"Class 2\"\n",
    "- what does it mean for stopwords to help our classifier? is our machine learning algorithm learning the right things, or just found that maybe one author uses more pronouns or something than other authors? hard to tell!\n"
   ]
  },
  {
   "cell_type": "markdown",
   "metadata": {},
   "source": [
    "### TF-IDF: Term-Frequency - Inverse Document-Frequency\n",
    "\n",
    "Woah, that's a term and a half. What even is it?\n",
    "\n",
    "From [the documentation](https://scikit-learn.org/stable/modules/generated/sklearn.feature_extraction.text.TfidfTransformer.html):\n",
    "\n",
    "> \"The goal of using tf-idf instead of the raw frequencies of occurrence of a token in a given document is to scale down the impact of tokens that occur very frequently in a given corpus and that are hence empirically less informative than features that occur in a small fraction of the training corpus.\"\n",
    "\n",
    "Basically, it's a statistic that hopefully reflects how important a word is in the document. By looking at the overall frequency you find how common a word is across the whole corpus, compared to the document frequency that shows how common a word is within the document in question. If a word appears often in our document, but relatively rarely in the corpus, it probably captures an important word in that specific document!\n",
    "\n",
    "In this example, the training corpus is every sentence in the `text` column in our train set, and the document is the individual sentence that we're trying to classify (per row).\n",
    "\n",
    "Reference: http://www.tfidf.com/\n",
    "\n",
    "We'll be using Sklearn's [`TfidfVectorizer`](https://scikit-learn.org/stable/modules/generated/sklearn.feature_extraction.text.TfidfVectorizer.html), which is 'equivalent to CountVectorizer followed by TfidfTransformer'"
   ]
  },
  {
   "cell_type": "code",
   "execution_count": 17,
   "metadata": {},
   "outputs": [],
   "source": [
    "# Instantiating the TF-IDF vectorizer\n",
    "tfidf = TfidfVectorizer(stop_words=stopwords_list, use_idf=True)\n",
    "\n",
    "# Training on the train set, then transforming the train set\n",
    "tfidf_train = tfidf.fit_transform(X_train)\n",
    "# Transforming the test set\n",
    "tfidf_test = tfidf.transform(X_test)"
   ]
  },
  {
   "cell_type": "code",
   "execution_count": 18,
   "metadata": {},
   "outputs": [],
   "source": [
    "tfidf_df = pd.DataFrame(tfidf.idf_, index=tfidf.get_feature_names(),columns=[\"idf_weights\"])"
   ]
  },
  {
   "cell_type": "code",
   "execution_count": 19,
   "metadata": {},
   "outputs": [
    {
     "data": {
      "text/html": [
       "<div>\n",
       "<style scoped>\n",
       "    .dataframe tbody tr th:only-of-type {\n",
       "        vertical-align: middle;\n",
       "    }\n",
       "\n",
       "    .dataframe tbody tr th {\n",
       "        vertical-align: top;\n",
       "    }\n",
       "\n",
       "    .dataframe thead th {\n",
       "        text-align: right;\n",
       "    }\n",
       "</style>\n",
       "<table border=\"1\" class=\"dataframe\">\n",
       "  <thead>\n",
       "    <tr style=\"text-align: right;\">\n",
       "      <th></th>\n",
       "      <th>idf_weights</th>\n",
       "    </tr>\n",
       "  </thead>\n",
       "  <tbody>\n",
       "    <tr>\n",
       "      <td>aaem</td>\n",
       "      <td>9.901435</td>\n",
       "    </tr>\n",
       "    <tr>\n",
       "      <td>louisa</td>\n",
       "      <td>9.901435</td>\n",
       "    </tr>\n",
       "    <tr>\n",
       "      <td>loutish</td>\n",
       "      <td>9.901435</td>\n",
       "    </tr>\n",
       "    <tr>\n",
       "      <td>loveless</td>\n",
       "      <td>9.901435</td>\n",
       "    </tr>\n",
       "    <tr>\n",
       "      <td>lovingly</td>\n",
       "      <td>9.901435</td>\n",
       "    </tr>\n",
       "    <tr>\n",
       "      <td>lowed</td>\n",
       "      <td>9.901435</td>\n",
       "    </tr>\n",
       "    <tr>\n",
       "      <td>lowell</td>\n",
       "      <td>9.901435</td>\n",
       "    </tr>\n",
       "    <tr>\n",
       "      <td>lowness</td>\n",
       "      <td>9.901435</td>\n",
       "    </tr>\n",
       "    <tr>\n",
       "      <td>loyalty</td>\n",
       "      <td>9.901435</td>\n",
       "    </tr>\n",
       "    <tr>\n",
       "      <td>lucan</td>\n",
       "      <td>9.901435</td>\n",
       "    </tr>\n",
       "  </tbody>\n",
       "</table>\n",
       "</div>"
      ],
      "text/plain": [
       "          idf_weights\n",
       "aaem         9.901435\n",
       "louisa       9.901435\n",
       "loutish      9.901435\n",
       "loveless     9.901435\n",
       "lovingly     9.901435\n",
       "lowed        9.901435\n",
       "lowell       9.901435\n",
       "lowness      9.901435\n",
       "loyalty      9.901435\n",
       "lucan        9.901435"
      ]
     },
     "execution_count": 19,
     "metadata": {},
     "output_type": "execute_result"
    }
   ],
   "source": [
    "tfidf_df.sort_values(by='idf_weights', ascending=False).head(10)"
   ]
  },
  {
   "cell_type": "code",
   "execution_count": 20,
   "metadata": {
    "scrolled": false
   },
   "outputs": [
    {
     "name": "stdout",
     "output_type": "stream",
     "text": [
      "chivalry\n",
      "0.5980220284052462\n"
     ]
    }
   ],
   "source": [
    "# Let's look at a specific example for one row\n",
    "tfidf_test_df = pd.DataFrame(tfidf_test.toarray(), columns=tfidf.vocabulary_.keys())\n",
    "\n",
    "test_doc = tfidf_test_df.iloc[16]\n",
    "print(test_doc.idxmax(axis=1))\n",
    "print(test_doc[test_doc.idxmax(axis=1)])"
   ]
  },
  {
   "cell_type": "markdown",
   "metadata": {},
   "source": [
    "This tells you that for the 17th document in our test set, the word 'chivalry' has the highest TF-IDF value.\n",
    "\n",
    "What does this tell you about the word \"chivalry\" in the this document of our test set?\n",
    "\n",
    "- occurs relatively infrequently in the corpus, but appears in this document, so likely is important to this document\n"
   ]
  },
  {
   "cell_type": "code",
   "execution_count": 21,
   "metadata": {},
   "outputs": [
    {
     "name": "stdout",
     "output_type": "stream",
     "text": [
      "0.8106230847803881\n"
     ]
    },
    {
     "data": {
      "image/png": "[encoded data removed]",
      "text/plain": [
       "<Figure size 432x288 with 2 Axes>"
      ]
     },
     "metadata": {
      "needs_background": "light"
     },
     "output_type": "display_data"
    }
   ],
   "source": [
    "# Using our function to compare the results...\n",
    "tfidf = TfidfVectorizer(stop_words=stopwords_list, use_idf=True)\n",
    "nb_tfidf = MultinomialNB()\n",
    "\n",
    "tfidf_train_preds, tfidf_test_preds = classify_vectorized_text(tfidf, nb_tfidf, X_train, X_test, y_train, y_test)"
   ]
  },
  {
   "cell_type": "markdown",
   "metadata": {},
   "source": [
    "Compare/discuss:\n",
    "\n",
    "- getting even worse! but not drastically so. now, we're better at classifying \"Class 0\" but worse at classifying \"Class 1\" and \"Class 2\"\n"
   ]
  },
  {
   "cell_type": "code",
   "execution_count": 22,
   "metadata": {},
   "outputs": [
    {
     "name": "stdout",
     "output_type": "stream",
     "text": [
      "0.7082737487231869\n"
     ]
    },
    {
     "data": {
      "image/png": "[encoded data removed]",
      "text/plain": [
       "<Figure size 432x288 with 2 Axes>"
      ]
     },
     "metadata": {
      "needs_background": "light"
     },
     "output_type": "display_data"
    }
   ],
   "source": [
    "# We can also use our function to try different classifiers\n",
    "tfidf = TfidfVectorizer(stop_words=stopwords_list, use_idf=True)\n",
    "rfc = RandomForestClassifier(n_estimators=100)\n",
    "\n",
    "rfc_train_preds, rfc_test_preds = classify_vectorized_text(tfidf, rfc, X_train, X_test, y_train, y_test)"
   ]
  },
  {
   "cell_type": "markdown",
   "metadata": {},
   "source": [
    "Compare/discuss: \n",
    "\n",
    "- woah that got way worse, so multinomial naive bayes is probably a better model to capture the relationship between and within these texts than this untuned random forest ensemble\n"
   ]
  },
  {
   "cell_type": "code",
   "execution_count": null,
   "metadata": {},
   "outputs": [],
   "source": []
  }
 ],
 "metadata": {
  "kernelspec": {
   "display_name": "Python [conda env:main] *",
   "language": "python",
   "name": "conda-env-main-py"
  },
  "language_info": {
   "codemirror_mode": {
    "name": "ipython",
    "version": 3
   },
   "file_extension": ".py",
   "mimetype": "text/x-python",
   "name": "python",
   "nbconvert_exporter": "python",
   "pygments_lexer": "ipython3",
   "version": "3.6.9"
  }
 },
 "nbformat": 4,
 "nbformat_minor": 2
}
